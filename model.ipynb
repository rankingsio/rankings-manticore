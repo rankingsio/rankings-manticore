{
 "cells": [
  {
   "cell_type": "code",
   "execution_count": null,
   "metadata": {},
   "outputs": [],
   "source": [
    "import pandas as pd\n",
    "import requests\n",
    "import numpy as np\n",
    "import json\n",
    "\n",
    "from sklearn.model_selection import GroupShuffleSplit\n",
    "import xgboost as xgb\n",
    "import shap\n",
    "\n",
    "# model is trained on all the words from the list \n",
    "# car_accident_lawyer|personal_injury_lawyer\n",
    "word_list = \"car_accident_lawyer\"\n",
    "\n",
    "url = \"http://209.126.84.138:80/api/v1/fulldata?word_list=\" + word_list + \"&top_results=20\"\n",
    "payload={}\n",
    "headers = {}\n",
    "rows = requests.request(\"GET\", url, headers=headers, data=payload).json()[0][\"rows\"]\n",
    "df = pd.DataFrame(rows)"
   ]
  },
  {
   "cell_type": "code",
   "execution_count": null,
   "metadata": {},
   "outputs": [],
   "source": [
    "#### feature engineering\n",
    "\n",
    "# outliers in backlinks are removed from the dataset\n",
    "median_backlinks = df[\"backlinks\"].median()\n",
    "std_backlinks = df[\"backlinks\"].std()\n",
    "outliers_backlinks = (df['backlinks'] - median_backlinks).abs() > std_backlinks\n",
    "df.loc[outliers_backlinks, \"backlinks\"] = median_backlinks\n",
    "\n",
    "# outliers in refdomains are removed from the dataset\n",
    "median_refdomains = df[\"refdomains\"].median()\n",
    "std_refdomains = df[\"refdomains\"].std()\n",
    "outliers_refdomains = (df[\"refdomains\"] - median_refdomains).abs() > std_refdomains\n",
    "df.loc[outliers_refdomains, \"refdomains\"] = median_refdomains\n",
    "\n",
    "# getting rid of highly correlated parameters\n",
    "del df[\"traffic\"]\n",
    "del df[\"traffic_value\"]\n",
    "del df[\"organic_traffic\"]\n",
    "del df[\"organic_keywords\"]\n",
    "\n",
    "# removing columns with same values\n",
    "del df[\"total_dom_size\"]\n",
    "del df[\"page_size\"]\n",
    "del df[\"word_count\"]\n",
    "del df[\"referring_domains\"]"
   ]
  },
  {
   "cell_type": "code",
   "execution_count": null,
   "metadata": {},
   "outputs": [],
   "source": [
    "gss = GroupShuffleSplit(test_size=.30, n_splits=2, random_state=40).split(df, groups=df['city'])\n",
    "X_train_inds, X_test_inds = next(gss)\n",
    "train_data= df.iloc[X_train_inds]\n",
    "\n",
    "X_train = train_data.loc[:, ~train_data.columns.isin(['city','rank'])]\n",
    "y_train = train_data.loc[:, train_data.columns.isin(['rank'])]\n",
    "\n",
    "groups = train_data.groupby('city').size().to_frame('size')['size'].to_numpy()\n",
    "test_data= df.iloc[X_test_inds]\n",
    "\n",
    "X_test = test_data.loc[:, ~test_data.columns.isin(['rank'])]\n",
    "y_test = test_data.loc[:, test_data.columns.isin(['rank'])]\n",
    "\n",
    "model = xgb.XGBRanker(  \n",
    "  booster='gbtree',\n",
    "  objective='rank:pairwise',\n",
    "  random_state=42, \n",
    "  learning_rate=0.1,\n",
    "  colsample_bytree=0.9, \n",
    "  eta=0.05, \n",
    "  max_depth=10, \n",
    "  n_estimators=110, \n",
    "  subsample=0.75 \n",
    ")\n",
    "\n",
    "del X_train[\"website\"]\n",
    "model.fit(X_train, y_train, group=groups, verbose=True)\n",
    "\n",
    "del X_test[\"website\"]\n",
    "del X_test[\"city\"]\n",
    "\n",
    "explainer = shap.TreeExplainer(model)\n",
    "shap_values = explainer.shap_values(X_test)\n",
    "\n",
    "# dataframe that can be exported in a table\n",
    "vals = np.abs(shap_values).mean(0)\n",
    "feature_importance = pd.DataFrame(list(zip(X_train.columns,vals)),columns=['col_name','feature_importance_vals'])\n",
    "feature_importance.sort_values(by=['feature_importance_vals'],ascending=False,inplace=True)\n",
    "\n",
    "# JSON output from the table to the api endpoint\n",
    "feature_importance_json = json.loads(feature_importance.to_json(orient='records'))\n",
    "res = {}\n",
    "for i in feature_importance_json:\n",
    "    res[i[\"col_name\"]] = i[\"feature_importance_vals\"]"
   ]
  }
 ],
 "metadata": {
  "interpreter": {
   "hash": "28b78ea27c35a1f1bfa63934ed4f3cf8665d209e5b8d809fb80b92d31b4d29b7"
  },
  "kernelspec": {
   "display_name": "Python 3",
   "language": "python",
   "name": "python3"
  },
  "language_info": {
   "codemirror_mode": {
    "name": "ipython",
    "version": 3
   },
   "file_extension": ".py",
   "mimetype": "text/x-python",
   "name": "python",
   "nbconvert_exporter": "python",
   "pygments_lexer": "ipython3",
   "version": "3.6.10"
  }
 },
 "nbformat": 4,
 "nbformat_minor": 2
}
